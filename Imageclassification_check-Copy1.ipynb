{
 "cells": [
  {
   "cell_type": "markdown",
   "id": "4cc0624a",
   "metadata": {},
   "source": [
    "# Image Classification"
   ]
  },
  {
   "cell_type": "code",
   "execution_count": 1,
   "id": "f54b4552",
   "metadata": {},
   "outputs": [],
   "source": [
    "# Image Classification\n",
    "import numpy as np\n",
    "import pandas as pd\n",
    "from sklearn.preprocessing import StandardScaler\n",
    "from sklearn.decomposition import PCA\n",
    "from imblearn.over_sampling import SMOTE\n",
    "from sklearn.model_selection import train_test_split\n",
    "from sklearn.metrics import f1_score\n",
    "from sklearn.feature_selection import SelectFromModel\n",
    "from sklearn.tree import DecisionTreeClassifier\n",
    "from sklearn.ensemble import RandomForestClassifier, ExtraTreesClassifier, AdaBoostClassifier, VotingClassifier\n",
    "from sklearn import metrics\n",
    "import warnings\n",
    "warnings.filterwarnings('ignore')\n",
    "from sklearn.feature_selection import SelectKBest, f_classif"
   ]
  },
  {
   "cell_type": "code",
   "execution_count": 2,
   "id": "886bc4fb",
   "metadata": {},
   "outputs": [],
   "source": [
    "# Reading traning data, labels and test data.\n",
    "train_data = pd.read_csv('train.dat', ' ', header=None, float_precision='high')\n",
    "test_data= pd.read_csv('test.dat', ' ', header=None, float_precision='high')\n",
    "train_labels = pd.read_csv('train.labels', header=None, names=['labels'])"
   ]
  },
  {
   "cell_type": "code",
   "execution_count": 3,
   "id": "1d48f09c",
   "metadata": {},
   "outputs": [
    {
     "data": {
      "text/plain": [
       "(5296, 887)"
      ]
     },
     "execution_count": 3,
     "metadata": {},
     "output_type": "execute_result"
    }
   ],
   "source": [
    "test_data.shape"
   ]
  },
  {
   "cell_type": "code",
   "execution_count": 4,
   "id": "f942e62f",
   "metadata": {},
   "outputs": [
    {
     "data": {
      "text/plain": [
       "(21186, 887)"
      ]
     },
     "execution_count": 4,
     "metadata": {},
     "output_type": "execute_result"
    }
   ],
   "source": [
    "train_data.shape"
   ]
  },
  {
   "cell_type": "markdown",
   "id": "99d438d5",
   "metadata": {},
   "source": [
    "# Feature Selection"
   ]
  },
  {
   "cell_type": "code",
   "execution_count": 5,
   "id": "a709dc49",
   "metadata": {},
   "outputs": [
    {
     "name": "stdout",
     "output_type": "stream",
     "text": [
      "(21186, 48)\n",
      "(5296, 48)\n"
     ]
    }
   ],
   "source": [
    "# Feature selection using SelectKBest with score function as f_classify\n",
    "featureSelector = SelectKBest(f_classif, k=48)\n",
    "X_train = featureSelector.fit_transform(train_data,train_labels)\n",
    "print(X_train.shape)\n",
    "# Transforming test data\n",
    "X_test = featureSelector.transform(test_data)\n",
    "print(X_test.shape)"
   ]
  },
  {
   "cell_type": "markdown",
   "id": "0da392ce",
   "metadata": {},
   "source": [
    "# Handling Unbalanced data"
   ]
  },
  {
   "cell_type": "code",
   "execution_count": 7,
   "id": "8b14ef23",
   "metadata": {},
   "outputs": [],
   "source": [
    "#For unbalanced data using smote technique\n",
    "spl = SMOTE(random_state=42,k_neighbors=1, n_jobs=1)\n",
    "X_smote = np.array(X_train)\n",
    "y_smote = np.array(train_labels)\n",
    "X, y = spl.fit_resample(X_smote, y_smote)"
   ]
  },
  {
   "cell_type": "code",
   "execution_count": 8,
   "id": "21f5b7c5",
   "metadata": {},
   "outputs": [
    {
     "data": {
      "text/plain": [
       "(103750, 48)"
      ]
     },
     "execution_count": 8,
     "metadata": {},
     "output_type": "execute_result"
    }
   ],
   "source": [
    "X.shape"
   ]
  },
  {
   "cell_type": "markdown",
   "id": "b3290712",
   "metadata": {},
   "source": [
    "# Splitting the data "
   ]
  },
  {
   "cell_type": "code",
   "execution_count": 9,
   "id": "7964c02f",
   "metadata": {},
   "outputs": [],
   "source": [
    "#Spliting Input data intot Training data and validation data in the ratio of 70:30.\n",
    "trainset_X,valid_X,trainset_y,valid_y = train_test_split(X,y, test_size=0.3)"
   ]
  },
  {
   "cell_type": "markdown",
   "id": "39a83b32",
   "metadata": {},
   "source": [
    "# DecisionTree Classifier"
   ]
  },
  {
   "cell_type": "code",
   "execution_count": 14,
   "id": "67c9808e",
   "metadata": {},
   "outputs": [
    {
     "name": "stdout",
     "output_type": "stream",
     "text": [
      "F1 score for Decision Tree Classifier: 0.9050744032097476\n"
     ]
    }
   ],
   "source": [
    "#Decision Tree Classifier\n",
    "alg_DF = DecisionTreeClassifier(random_state = 0)\n",
    "alg_DF.fit(trainset_X, trainset_y)\n",
    "pred_DF = alg_DF.predict(valid_X)\n",
    "score_DF = metrics.f1_score(pred_DF,valid_y, average='macro')\n",
    "\n",
    "print('F1 score for Decision Tree Classifier:', score_DF)"
   ]
  },
  {
   "cell_type": "markdown",
   "id": "db24d1e7",
   "metadata": {},
   "source": [
    "# Random Forest Classifier"
   ]
  },
  {
   "cell_type": "code",
   "execution_count": 37,
   "id": "c80b0add",
   "metadata": {},
   "outputs": [
    {
     "name": "stdout",
     "output_type": "stream",
     "text": [
      "F1 score for Random Forest Classifier: 0.9518800815972736\n"
     ]
    }
   ],
   "source": [
    "#Random Forest Classifier\n",
    "alg_RF = RandomForestClassifier(n_estimators=120, random_state = 0)\n",
    "alg_RF.fit(trainset_X, trainset_y)\n",
    "pred_RF = alg_RF.predict(valid_X)\n",
    "score_RF = metrics.f1_score(pred_RF,valid_y, average='macro')\n",
    "\n",
    "print('F1 score for Random Forest Classifier:', score_RF)"
   ]
  },
  {
   "cell_type": "markdown",
   "id": "266d1328",
   "metadata": {},
   "source": [
    "# KNN Classifier"
   ]
  },
  {
   "cell_type": "code",
   "execution_count": 64,
   "id": "442998fe",
   "metadata": {},
   "outputs": [
    {
     "name": "stdout",
     "output_type": "stream",
     "text": [
      "F1 score for K-Nearest Neighbour classifier : 0.9432464135213554\n"
     ]
    }
   ],
   "source": [
    "#KNN classifier with neighbor count of 3\n",
    "from sklearn.neighbors import KNeighborsClassifier\n",
    "alg_KNN = KNeighborsClassifier(n_neighbors=3)\n",
    "alg_KNN.fit(trainset_X, trainset_y)\n",
    "pred_KNN = alg_KNN.predict(valid_X)\n",
    "score_KNN = f1_score(pred_KNN,valid_y, average='macro')\n",
    "print(\"F1 score for K-Nearest Neighbour classifier :\",score_KNN)"
   ]
  },
  {
   "cell_type": "markdown",
   "id": "ebaa95d6",
   "metadata": {},
   "source": [
    "# Extra Tree Classifier"
   ]
  },
  {
   "cell_type": "code",
   "execution_count": 11,
   "id": "c28fc5a5",
   "metadata": {},
   "outputs": [
    {
     "name": "stdout",
     "output_type": "stream",
     "text": [
      "F1 score for Extra Tree Classifier : 0.9611535069753913\n"
     ]
    }
   ],
   "source": [
    "# Extra Tree Classifier\n",
    "alg_ext = ExtraTreesClassifier(n_estimators=650)\n",
    "alg_ext.fit(trainset_X, trainset_y)\n",
    "pred_Ext = alg_ext.predict(valid_X)\n",
    "score_Ext = metrics.f1_score(pred_Ext,valid_y, average='macro')\n",
    "print('F1 score for Extra Tree Classifier :', score_Ext )\n"
   ]
  },
  {
   "cell_type": "markdown",
   "id": "e1697d29",
   "metadata": {},
   "source": [
    "# AdaBoost Classifier"
   ]
  },
  {
   "cell_type": "code",
   "execution_count": 20,
   "id": "6cee56c5",
   "metadata": {},
   "outputs": [
    {
     "name": "stdout",
     "output_type": "stream",
     "text": [
      "ADA BOOST Classifier Testing F1 score : 0.9605631285359773\n"
     ]
    }
   ],
   "source": [
    "# Abadoost classifier with base estimator as extra tree classifier\n",
    "alg_AB = AdaBoostClassifier(base_estimator=alg_ext, random_state=0)\n",
    "alg_AB.fit(trainset_X, trainset_y)\n",
    "pred_AB = alg_AB.predict(valid_X)\n",
    "score_AB = metrics.f1_score(pred_AB,valid_y, average='macro')\n",
    "print('ADA BOOST Classifier Testing F1 score :', score_AB )\n"
   ]
  },
  {
   "cell_type": "markdown",
   "id": "55f03a56",
   "metadata": {},
   "source": [
    "training the entire dataset using best working algorithm"
   ]
  },
  {
   "cell_type": "code",
   "execution_count": 17,
   "id": "f61f00d7",
   "metadata": {},
   "outputs": [
    {
     "data": {
      "text/plain": [
       "AdaBoostClassifier(base_estimator=ExtraTreesClassifier(n_estimators=650),\n",
       "                   n_estimators=650, random_state=0)"
      ]
     },
     "execution_count": 17,
     "metadata": {},
     "output_type": "execute_result"
    }
   ],
   "source": [
    "# Fiting the algorithm for entire data\n",
    "final_alg = ExtraTreesClassifier(n_estimators=650)\n",
    "final_alg.fit(X, y)\n"
   ]
  },
  {
   "cell_type": "markdown",
   "id": "a38a81c0",
   "metadata": {},
   "source": [
    "# Predicting labels for test data"
   ]
  },
  {
   "cell_type": "code",
   "execution_count": 18,
   "id": "afedddb2",
   "metadata": {},
   "outputs": [],
   "source": [
    "# Predicting for test data\n",
    "pred_final = final_alg.predict(X_test)"
   ]
  },
  {
   "cell_type": "code",
   "execution_count": 19,
   "id": "fa41040a",
   "metadata": {},
   "outputs": [],
   "source": [
    "# insert prediction to Output file \n",
    "pred_final.tofile('output_ext2.dat', sep=\"\\n\", format=\"%d\")\n"
   ]
  },
  {
   "cell_type": "code",
   "execution_count": null,
   "id": "d2e06e5f",
   "metadata": {},
   "outputs": [],
   "source": []
  }
 ],
 "metadata": {
  "kernelspec": {
   "display_name": "Python 3",
   "language": "python",
   "name": "python3"
  },
  "language_info": {
   "codemirror_mode": {
    "name": "ipython",
    "version": 3
   },
   "file_extension": ".py",
   "mimetype": "text/x-python",
   "name": "python",
   "nbconvert_exporter": "python",
   "pygments_lexer": "ipython3",
   "version": "3.8.3"
  }
 },
 "nbformat": 4,
 "nbformat_minor": 5
}
